{
 "cells": [
  {
   "cell_type": "markdown",
   "metadata": {
    "collapsed": true
   },
   "source": [
    "# Image Classification\n",
    "In this project, you'll classify images from the [CIFAR-10 dataset](https://www.cs.toronto.edu/~kriz/cifar.html).  The dataset consists of airplanes, dogs, cats, and other objects. You'll preprocess the images, then train a convolutional neural network on all the samples. The images need to be normalized and the labels need to be one-hot encoded.  You'll get to apply what you learned and build a convolutional, max pooling, dropout, and fully connected layers.  At the end, you'll get to see your neural network's predictions on the sample images.\n",
    "## Get the Data\n",
    "Run the following cell to download the [CIFAR-10 dataset for python](https://www.cs.toronto.edu/~kriz/cifar-10-python.tar.gz)."
   ]
  },
  {
   "cell_type": "code",
   "execution_count": 5,
   "metadata": {},
   "outputs": [],
   "source": [
    "\"\"\"\n",
    "DON'T MODIFY ANYTHING IN THIS CELL THAT IS BELOW THIS LINE\n",
    "\"\"\"\n",
    "from urllib.request import urlretrieve\n",
    "from os.path import isfile, isdir\n",
    "from tqdm import tqdm\n",
    "import problem_unittests as tests\n",
    "import tarfile\n",
    "\n",
    "# cifar10_dataset_folder_path = 'cifar-10-batches-py'\n",
    "\n",
    "# # Use Floyd's cifar-10 dataset if present\n",
    "# floyd_cifar10_location = '/input/cifar-10/python.tar.gz'\n",
    "# if isfile(floyd_cifar10_location):\n",
    "#     tar_gz_path = floyd_cifar10_location\n",
    "# else:\n",
    "#     tar_gz_path = 'cifar-10-python.tar.gz'\n",
    "\n",
    "# class DLProgress(tqdm):\n",
    "#     last_block = 0\n",
    "\n",
    "#     def hook(self, block_num=1, block_size=1, total_size=None):\n",
    "#         self.total = total_size\n",
    "#         self.update((block_num - self.last_block) * block_size)\n",
    "#         self.last_block = block_num\n",
    "\n",
    "# if not isfile(tar_gz_path):\n",
    "#     with DLProgress(unit='B', unit_scale=True, miniters=1, desc='CIFAR-10 Dataset') as pbar:\n",
    "#         urlretrieve(\n",
    "#             'https://www.cs.toronto.edu/~kriz/cifar-10-python.tar.gz',\n",
    "#             tar_gz_path,\n",
    "#             pbar.hook)\n",
    "\n",
    "# if not isdir(cifar10_dataset_folder_path):\n",
    "#     with tarfile.open(tar_gz_path) as tar:\n",
    "#         tar.extractall()\n",
    "#         tar.close()\n",
    "\n",
    "\n",
    "# tests.test_folder_path(cifar10_dataset_folder_path)"
   ]
  },
  {
   "cell_type": "markdown",
   "metadata": {},
   "source": [
    "## Explore the Data\n",
    "The dataset is broken into batches to prevent your machine from running out of memory.  The CIFAR-10 dataset consists of 5 batches, named `data_batch_1`, `data_batch_2`, etc.. Each batch contains the labels and images that are one of the following:\n",
    "* airplane\n",
    "* automobile\n",
    "* bird\n",
    "* cat\n",
    "* deer\n",
    "* dog\n",
    "* frog\n",
    "* horse\n",
    "* ship\n",
    "* truck\n",
    "\n",
    "Understanding a dataset is part of making predictions on the data.  Play around with the code cell below by changing the `batch_id` and `sample_id`. The `batch_id` is the id for a batch (1-5). The `sample_id` is the id for a image and label pair in the batch.\n",
    "\n",
    "Ask yourself \"What are all possible labels?\", \"What is the range of values for the image data?\", \"Are the labels in order or random?\".  Answers to questions like these will help you preprocess the data and end up with better predictions."
   ]
  },
  {
   "cell_type": "code",
   "execution_count": 6,
   "metadata": {},
   "outputs": [
    {
     "name": "stdout",
     "output_type": "stream",
     "text": [
      "\n",
      "Stats of batch 1:\n",
      "Samples: 10000\n",
      "Label Counts: {0: 1005, 1: 974, 2: 1032, 3: 1016, 4: 999, 5: 937, 6: 1030, 7: 1001, 8: 1025, 9: 981}\n",
      "First 20 Labels: [6, 9, 9, 4, 1, 1, 2, 7, 8, 3, 4, 7, 7, 2, 9, 9, 9, 3, 2, 6]\n",
      "\n",
      "Example of Image 5:\n",
      "Image - Min Value: 0 Max Value: 252\n",
      "Image - Shape: (32, 32, 3)\n",
      "Label - Label Id: 1 Name: automobile\n"
     ]
    },
    {
     "data": {
      "image/png": "[encoded data removed]",
      "text/plain": [
       "<matplotlib.figure.Figure at 0x2b5e490c4a8>"
      ]
     },
     "metadata": {
      "image/png": {
       "height": 250,
       "width": 253
      }
     },
     "output_type": "display_data"
    }
   ],
   "source": [
    "%matplotlib inline\n",
    "%config InlineBackend.figure_format = 'retina'\n",
    "\n",
    "import helper\n",
    "import numpy as np\n",
    "\n",
    "cifar10_dataset_folder_path = 'cifar-10-batches-py'\n",
    "\n",
    "# Explore the dataset\n",
    "batch_id = 1\n",
    "sample_id = 5\n",
    "helper.display_stats(cifar10_dataset_folder_path, batch_id, sample_id)"
   ]
  },
  {
   "cell_type": "markdown",
   "metadata": {},
   "source": [
    "## Implement Preprocess Functions\n",
    "### Normalize\n",
    "In the cell below, implement the `normalize` function to take in image data, `x`, and return it as a normalized Numpy array. The values should be in the range of 0 to 1, inclusive.  The return object should be the same shape as `x`."
   ]
  },
  {
   "cell_type": "code",
   "execution_count": 44,
   "metadata": {},
   "outputs": [
    {
     "name": "stdout",
     "output_type": "stream",
     "text": [
      "Tests Passed\n"
     ]
    }
   ],
   "source": [
    "def normalize(x):\n",
    "    import numpy\n",
    "    \"\"\"\n",
    "    Normalize a list of sample image data in the range of 0 to 1\n",
    "    : x: List of image data.  The image shape is (32, 32, 3)\n",
    "    : return: Numpy array of normalize data\n",
    "    \"\"\"\n",
    "    x = np.array((x / 255))\n",
    "    # TODO: Implement Function\n",
    "    return x\n",
    "\n",
    "\n",
    "\"\"\"\n",
    "DON'T MODIFY ANYTHING IN THIS CELL THAT IS BELOW THIS LINE\n",
    "\"\"\"\n",
    "tests.test_normalize(normalize)"
   ]
  },
  {
   "cell_type": "markdown",
   "metadata": {},
   "source": [
    "### One-hot encode\n",
    "Just like the previous code cell, you'll be implementing a function for preprocessing.  This time, you'll implement the `one_hot_encode` function. The input, `x`, are a list of labels.  Implement the function to return the list of labels as One-Hot encoded Numpy array.  The possible values for labels are 0 to 9. The one-hot encoding function should return the same encoding for each value between each call to `one_hot_encode`.  Make sure to save the map of encodings outside the function.\n",
    "\n",
    "Hint: Don't reinvent the wheel."
   ]
  },
  {
   "cell_type": "code",
   "execution_count": 45,
   "metadata": {},
   "outputs": [
    {
     "name": "stdout",
     "output_type": "stream",
     "text": [
      "Tests Passed\n"
     ]
    }
   ],
   "source": [
    "def one_hot_encode(x):\n",
    "    \"\"\"\n",
    "    One hot encode a list of sample labels. Return a one-hot encoded vector for each label.\n",
    "    : x: List of sample Labels\n",
    "    : return: Numpy array of one-hot encoded labels\n",
    "    \"\"\"\n",
    "    # TODO: Implement Function\n",
    "    return np.eye(10)[x]\n",
    "\n",
    "\n",
    "\"\"\"\n",
    "DON'T MODIFY ANYTHING IN THIS CELL THAT IS BELOW THIS LINE\n",
    "\"\"\"\n",
    "tests.test_one_hot_encode(one_hot_encode)"
   ]
  },
  {
   "cell_type": "markdown",
   "metadata": {},
   "source": [
    "### Randomize Data\n",
    "As you saw from exploring the data above, the order of the samples are randomized.  It doesn't hurt to randomize it again, but you don't need to for this dataset."
   ]
  },
  {
   "cell_type": "markdown",
   "metadata": {},
   "source": [
    "## Preprocess all the data and save it\n",
    "Running the code cell below will preprocess all the CIFAR-10 data and save it to file. The code below also uses 10% of the training data for validation."
   ]
  },
  {
   "cell_type": "code",
   "execution_count": 46,
   "metadata": {
    "collapsed": true
   },
   "outputs": [],
   "source": [
    "\"\"\"\n",
    "DON'T MODIFY ANYTHING IN THIS CELL\n",
    "\"\"\"\n",
    "# Preprocess Training, Validation, and Testing Data\n",
    "helper.preprocess_and_save_data(cifar10_dataset_folder_path, normalize, one_hot_encode)"
   ]
  },
  {
   "cell_type": "markdown",
   "metadata": {},
   "source": [
    "# Check Point\n",
    "This is your first checkpoint.  If you ever decide to come back to this notebook or have to restart the notebook, you can start from here.  The preprocessed data has been saved to disk."
   ]
  },
  {
   "cell_type": "code",
   "execution_count": 47,
   "metadata": {
    "collapsed": true
   },
   "outputs": [],
   "source": [
    "\"\"\"\n",
    "DON'T MODIFY ANYTHING IN THIS CELL\n",
    "\"\"\"\n",
    "import pickle\n",
    "import problem_unittests as tests\n",
    "import helper\n",
    "\n",
    "# Load the Preprocessed Validation data\n",
    "valid_features, valid_labels = pickle.load(open('preprocess_validation.p', mode='rb'))"
   ]
  },
  {
   "cell_type": "markdown",
   "metadata": {},
   "source": [
    "## Build the network\n",
    "For the neural network, you'll build each layer into a function.  Most of the code you've seen has been outside of functions. To test your code more thoroughly, we require that you put each layer in a function.  This allows us to give you better feedback and test for simple mistakes using our unittests before you submit your project.\n",
    "\n",
    ">**Note:** If you're finding it hard to dedicate enough time for this course each week, we've provided a small shortcut to this part of the project. In the next couple of problems, you'll have the option to use classes from the [TensorFlow Layers](https://www.tensorflow.org/api_docs/python/tf/layers) or [TensorFlow Layers (contrib)](https://www.tensorflow.org/api_guides/python/contrib.layers) packages to build each layer, except the layers you build in the \"Convolutional and Max Pooling Layer\" section.  TF Layers is similar to Keras's and TFLearn's abstraction to layers, so it's easy to pickup.\n",
    "\n",
    ">However, if you would like to get the most out of this course, try to solve all the problems _without_ using anything from the TF Layers packages. You **can** still use classes from other packages that happen to have the same name as ones you find in TF Layers! For example, instead of using the TF Layers version of the `conv2d` class, [tf.layers.conv2d](https://www.tensorflow.org/api_docs/python/tf/layers/conv2d), you would want to use the TF Neural Network version of `conv2d`, [tf.nn.conv2d](https://www.tensorflow.org/api_docs/python/tf/nn/conv2d). \n",
    "\n",
    "Let's begin!\n",
    "\n",
    "### Input\n",
    "The neural network needs to read the image data, one-hot encoded labels, and dropout keep probability. Implement the following functions\n",
    "* Implement `neural_net_image_input`\n",
    " * Return a [TF Placeholder](https://www.tensorflow.org/api_docs/python/tf/placeholder)\n",
    " * Set the shape using `image_shape` with batch size set to `None`.\n",
    " * Name the TensorFlow placeholder \"x\" using the TensorFlow `name` parameter in the [TF Placeholder](https://www.tensorflow.org/api_docs/python/tf/placeholder).\n",
    "* Implement `neural_net_label_input`\n",
    " * Return a [TF Placeholder](https://www.tensorflow.org/api_docs/python/tf/placeholder)\n",
    " * Set the shape using `n_classes` with batch size set to `None`.\n",
    " * Name the TensorFlow placeholder \"y\" using the TensorFlow `name` parameter in the [TF Placeholder](https://www.tensorflow.org/api_docs/python/tf/placeholder).\n",
    "* Implement `neural_net_keep_prob_input`\n",
    " * Return a [TF Placeholder](https://www.tensorflow.org/api_docs/python/tf/placeholder) for dropout keep probability.\n",
    " * Name the TensorFlow placeholder \"keep_prob\" using the TensorFlow `name` parameter in the [TF Placeholder](https://www.tensorflow.org/api_docs/python/tf/placeholder).\n",
    "\n",
    "These names will be used at the end of the project to load your saved model.\n",
    "\n",
    "Note: `None` for shapes in TensorFlow allow for a dynamic size."
   ]
  },
  {
   "cell_type": "code",
   "execution_count": 48,
   "metadata": {},
   "outputs": [
    {
     "name": "stdout",
     "output_type": "stream",
     "text": [
      "Image Input Tests Passed.\n",
      "Label Input Tests Passed.\n",
      "Keep Prob Tests Passed.\n"
     ]
    }
   ],
   "source": [
    "import tensorflow as tf\n",
    "\n",
    "def neural_net_image_input(image_shape):\n",
    "    \"\"\"\n",
    "    Return a Tensor for a batch of image input\n",
    "    : image_shape: Shape of the images\n",
    "    : return: Tensor for image input.\n",
    "    \"\"\"\n",
    "    # TODO: Implement Function\n",
    "    return tf.placeholder(tf.float32, [None, image_shape[0], image_shape[1], image_shape[2]], name='x')\n",
    "\n",
    "\n",
    "def neural_net_label_input(n_classes):\n",
    "    \"\"\"\n",
    "    Return a Tensor for a batch of label input\n",
    "    : n_classes: Number of classes\n",
    "    : return: Tensor for label input.\n",
    "    \"\"\"\n",
    "    # TODO: Implement Function\n",
    "    return tf.placeholder(tf.float32, [None, n_classes], name='y')\n",
    "\n",
    "\n",
    "def neural_net_keep_prob_input():\n",
    "    \"\"\"\n",
    "    Return a Tensor for keep probability\n",
    "    : return: Tensor for keep probability.\n",
    "    \"\"\"\n",
    "    # TODO: Implement Function\n",
    "    return tf.placeholder(tf.float32, name='keep_prob')\n",
    "\n",
    "\"\"\"\n",
    "DON'T MODIFY ANYTHING IN THIS CELL THAT IS BELOW THIS LINE\n",
    "\"\"\"\n",
    "tf.reset_default_graph()\n",
    "tests.test_nn_image_inputs(neural_net_image_input)\n",
    "tests.test_nn_label_inputs(neural_net_label_input)\n",
    "tests.test_nn_keep_prob_inputs(neural_net_keep_prob_input)"
   ]
  },
  {
   "cell_type": "markdown",
   "metadata": {},
   "source": [
    "### Convolution and Max Pooling Layer\n",
    "Convolution layers have a lot of success with images. For this code cell, you should implement the function `conv2d_maxpool` to apply convolution then max pooling:\n",
    "* Create the weight and bias using `conv_ksize`, `conv_num_outputs` and the shape of `x_tensor`.\n",
    "* Apply a convolution to `x_tensor` using weight and `conv_strides`.\n",
    " * We recommend you use same padding, but you're welcome to use any padding.\n",
    "* Add bias\n",
    "* Add a nonlinear activation to the convolution.\n",
    "* Apply Max Pooling using `pool_ksize` and `pool_strides`.\n",
    " * We recommend you use same padding, but you're welcome to use any padding.\n",
    "\n",
    "**Note:** You **can't** use [TensorFlow Layers](https://www.tensorflow.org/api_docs/python/tf/layers) or [TensorFlow Layers (contrib)](https://www.tensorflow.org/api_guides/python/contrib.layers) for **this** layer, but you can still use TensorFlow's [Neural Network](https://www.tensorflow.org/api_docs/python/tf/nn) package. You may still use the shortcut option for all the **other** layers."
   ]
  },
  {
   "cell_type": "code",
   "execution_count": 54,
   "metadata": {},
   "outputs": [
    {
     "name": "stdout",
     "output_type": "stream",
     "text": [
      "Tests Passed\n"
     ]
    }
   ],
   "source": [
    "def conv2d_maxpool(x_tensor, conv_num_outputs, conv_ksize, conv_strides, pool_ksize, pool_strides):\n",
    "    \"\"\"\n",
    "    Apply convolution then max pooling to x_tensor\n",
    "    :param x_tensor: TensorFlow Tensor\n",
    "    :param conv_num_outputs: Number of outputs for the convolutional layer\n",
    "    :param conv_ksize: kernal size 2-D Tuple for the convolutional layer\n",
    "    :param conv_strides: Stride 2-D Tuple for convolution\n",
    "    :param pool_ksize: kernal size 2-D Tuple for pool\n",
    "    :param pool_strides: Stride 2-D Tuple for pool\n",
    "    : return: A tensor that represents convolution and max pooling of x_tensor\n",
    "    \"\"\"\n",
    "    # TODO: Implement Function\n",
    "    weights = tf.Variable(tf.truncated_normal([\n",
    "                                    conv_ksize[0], \n",
    "                                    conv_ksize[1], \n",
    "                                    x_tensor.get_shape().as_list()[-1], \n",
    "                                    conv_num_outputs\n",
    "                                 ],stddev=0.1))\n",
    "    biases = tf.Variable(tf.zeros([conv_num_outputs], dtype=tf.float32))\n",
    "    conv_layer = tf.nn.conv2d(x_tensor, weights, strides=[1,conv_strides[0],conv_strides[1],1], padding='SAME')\n",
    "    conv_layer = conv_layer + biases\n",
    "    conv_layer = tf.nn.max_pool(conv_layer, strides=[1,pool_strides[1],pool_strides[1],1], ksize=[1,pool_ksize[0],pool_ksize[1],1], padding='SAME')\n",
    "    conv_layer = tf.nn.relu(conv_layer)\n",
    "    return conv_layer \n",
    "\n",
    "\n",
    "\"\"\"\n",
    "DON'T MODIFY ANYTHING IN THIS CELL THAT IS BELOW THIS LINE\n",
    "\"\"\"\n",
    "tests.test_con_pool(conv2d_maxpool)"
   ]
  },
  {
   "cell_type": "markdown",
   "metadata": {},
   "source": [
    "### Flatten Layer\n",
    "Implement the `flatten` function to change the dimension of `x_tensor` from a 4-D tensor to a 2-D tensor.  The output should be the shape (*Batch Size*, *Flattened Image Size*). Shortcut option: you can use classes from the [TensorFlow Layers](https://www.tensorflow.org/api_docs/python/tf/layers) or [TensorFlow Layers (contrib)](https://www.tensorflow.org/api_guides/python/contrib.layers) packages for this layer. For more of a challenge, only use other TensorFlow packages."
   ]
  },
  {
   "cell_type": "code",
   "execution_count": 55,
   "metadata": {},
   "outputs": [
    {
     "name": "stdout",
     "output_type": "stream",
     "text": [
      "Tests Passed\n"
     ]
    }
   ],
   "source": [
    "def flatten(x_tensor):\n",
    "    \"\"\"\n",
    "    Flatten x_tensor to (Batch Size, Flattened Image Size)\n",
    "    : x_tensor: A tensor of size (Batch Size, ...), where ... are the image dimensions.\n",
    "    : return: A tensor of size (Batch Size, Flattened Image Size).\n",
    "    \"\"\"\n",
    "    # TODO: Implement Function\n",
    "    flattened_size = x_tensor.shape[1] * x_tensor.shape[2] * x_tensor.shape[3]\n",
    "    return tf.reshape(x_tensor, [-1, flattened_size.value])\n",
    "\n",
    "\n",
    "\"\"\"\n",
    "DON'T MODIFY ANYTHING IN THIS CELL THAT IS BELOW THIS LINE\n",
    "\"\"\"\n",
    "tests.test_flatten(flatten)"
   ]
  },
  {
   "cell_type": "markdown",
   "metadata": {},
   "source": [
    "### Fully-Connected Layer\n",
    "Implement the `fully_conn` function to apply a fully connected layer to `x_tensor` with the shape (*Batch Size*, *num_outputs*). Shortcut option: you can use classes from the [TensorFlow Layers](https://www.tensorflow.org/api_docs/python/tf/layers) or [TensorFlow Layers (contrib)](https://www.tensorflow.org/api_guides/python/contrib.layers) packages for this layer. For more of a challenge, only use other TensorFlow packages."
   ]
  },
  {
   "cell_type": "code",
   "execution_count": 72,
   "metadata": {},
   "outputs": [
    {
     "name": "stdout",
     "output_type": "stream",
     "text": [
      "Tests Passed\n"
     ]
    }
   ],
   "source": [
    "def fully_conn(x_tensor, num_outputs):\n",
    "    \"\"\"\n",
    "    Apply a fully connected layer to x_tensor using weight and bias\n",
    "    : x_tensor: A 2-D tensor where the first dimension is batch size.\n",
    "    : num_outputs: The number of output that the new tensor should be.\n",
    "    : return: A 2-D tensor where the second dimension is num_outputs.\n",
    "    \"\"\"\n",
    "    # TODO: Implement Function\n",
    "    numberOfFeatures = x_tensor.shape[1].value\n",
    "    weights = tf.Variable(tf.truncated_normal([numberOfFeatures, num_outputs], stddev=0.1))\n",
    "    biases = tf.Variable(tf.zeros([num_outputs]))\n",
    "    fc = tf.matmul(x_tensor, weights) + biases\n",
    "    fc = tf.nn.relu(fc)\n",
    "    return fc\n",
    "\n",
    "\n",
    "\"\"\"\n",
    "DON'T MODIFY ANYTHING IN THIS CELL THAT IS BELOW THIS LINE\n",
    "\"\"\"\n",
    "tests.test_fully_conn(fully_conn)"
   ]
  },
  {
   "cell_type": "markdown",
   "metadata": {},
   "source": [
    "### Output Layer\n",
    "Implement the `output` function to apply a fully connected layer to `x_tensor` with the shape (*Batch Size*, *num_outputs*). Shortcut option: you can use classes from the [TensorFlow Layers](https://www.tensorflow.org/api_docs/python/tf/layers) or [TensorFlow Layers (contrib)](https://www.tensorflow.org/api_guides/python/contrib.layers) packages for this layer. For more of a challenge, only use other TensorFlow packages.\n",
    "\n",
    "**Note:** Activation, softmax, or cross entropy should **not** be applied to this."
   ]
  },
  {
   "cell_type": "code",
   "execution_count": 73,
   "metadata": {},
   "outputs": [
    {
     "name": "stdout",
     "output_type": "stream",
     "text": [
      "Tests Passed\n"
     ]
    }
   ],
   "source": [
    "def output(x_tensor, num_outputs):\n",
    "    \"\"\"\n",
    "    Apply a output layer to x_tensor using weight and bias\n",
    "    : x_tensor: A 2-D tensor where the first dimension is batch size.\n",
    "    : num_outputs: The number of output that the new tensor should be.\n",
    "    : return: A 2-D tensor where the second dimension is num_outputs.\n",
    "    \"\"\"\n",
    "    # TODO: Implement Function\n",
    "    numberOfFeatures = x_tensor.shape[1].value\n",
    "    weights = tf.Variable(tf.truncated_normal([numberOfFeatures, num_outputs], stddev=0.1))\n",
    "    biases = tf.Variable(tf.zeros([num_outputs]))\n",
    "    fc = tf.matmul(x_tensor, weights) + biases\n",
    "    return fc\n",
    "\n",
    "\"\"\"\n",
    "DON'T MODIFY ANYTHING IN THIS CELL THAT IS BELOW THIS LINE\n",
    "\"\"\"\n",
    "tests.test_output(output)"
   ]
  },
  {
   "cell_type": "markdown",
   "metadata": {},
   "source": [
    "### Create Convolutional Model\n",
    "Implement the function `conv_net` to create a convolutional neural network model. The function takes in a batch of images, `x`, and outputs logits.  Use the layers you created above to create this model:\n",
    "\n",
    "* Apply 1, 2, or 3 Convolution and Max Pool layers\n",
    "* Apply a Flatten Layer\n",
    "* Apply 1, 2, or 3 Fully Connected Layers\n",
    "* Apply an Output Layer\n",
    "* Return the output\n",
    "* Apply [TensorFlow's Dropout](https://www.tensorflow.org/api_docs/python/tf/nn/dropout) to one or more layers in the model using `keep_prob`. "
   ]
  },
  {
   "cell_type": "code",
   "execution_count": 101,
   "metadata": {},
   "outputs": [
    {
     "name": "stdout",
     "output_type": "stream",
     "text": [
      "Neural Network Built!\n"
     ]
    }
   ],
   "source": [
    "def conv_net(x, keep_prob):\n",
    "    \"\"\"\n",
    "    Create a convolutional neural network model\n",
    "    : x: Placeholder tensor that holds image data.\n",
    "    : keep_prob: Placeholder tensor that hold dropout keep probability.\n",
    "    : return: Tensor that represents logits\n",
    "    \"\"\"\n",
    "    # TODO: Apply 1, 2, or 3 Convolution and Max Pool layers\n",
    "    #    Play around with different number of outputs, kernel size and stride\n",
    "    # Function Definition from Above:\n",
    "    #    conv2d_maxpool(x_tensor, conv_num_outputs, conv_ksize, conv_strides, pool_ksize, pool_strides)\n",
    "    x = conv2d_maxpool(x, 64, (3, 3), (1, 1), (2, 2), (2, 2))\n",
    "    x = conv2d_maxpool(x, 128, (3, 3), (1, 1), (2, 2), (2, 2))\n",
    "    x = conv2d_maxpool(x, 256, (3, 3), (1, 1), (2, 2), (2, 2))\n",
    "\n",
    "    # TODO: Apply a Flatten Layer\n",
    "    # Function Definition from Above:\n",
    "    #   flatten(x_tensor)\n",
    "    x = flatten(x)\n",
    "\n",
    "    # TODO: Apply 1, 2, or 3 Fully Connected Layers\n",
    "    #    Play around with different number of outputs\n",
    "    # Function Definition from Above:\n",
    "    #   fully_conn(x_tensor, num_outputs)\n",
    "    x = fully_conn(x, 128)\n",
    "    x = tf.nn.dropout(x, keep_prob=keep_prob)\n",
    "    x = fully_conn(x, 64)\n",
    "    x = tf.nn.dropout(x, keep_prob=keep_prob)\n",
    "    x = fully_conn(x, 32)\n",
    "    x = tf.nn.dropout(x, keep_prob=keep_prob)\n",
    "    \n",
    "    # TODO: Apply an Output Layer\n",
    "    #    Set this to the number of classes\n",
    "    # Function Definition from Above:\n",
    "    #   output(x_tensor, num_outputs)\n",
    "    x = output(x, 10)\n",
    "    \n",
    "    # TODO: return output\n",
    "    return x\n",
    "\n",
    "\n",
    "\"\"\"\n",
    "DON'T MODIFY ANYTHING IN THIS CELL THAT IS BELOW THIS LINE\n",
    "\"\"\"\n",
    "\n",
    "##############################\n",
    "## Build the Neural Network ##\n",
    "##############################\n",
    "\n",
    "# Remove previous weights, bias, inputs, etc..\n",
    "tf.reset_default_graph()\n",
    "\n",
    "# Inputs\n",
    "x = neural_net_image_input((32, 32, 3))\n",
    "y = neural_net_label_input(10)\n",
    "keep_prob = neural_net_keep_prob_input()\n",
    "\n",
    "# Model\n",
    "logits = conv_net(x, keep_prob)\n",
    "\n",
    "# Name logits Tensor, so that is can be loaded from disk after training\n",
    "logits = tf.identity(logits, name='logits')\n",
    "\n",
    "# Loss and Optimizer\n",
    "cost = tf.reduce_mean(tf.nn.softmax_cross_entropy_with_logits(logits=logits, labels=y))\n",
    "optimizer = tf.train.AdamOptimizer().minimize(cost)\n",
    "\n",
    "# # Accuracy\n",
    "correct_pred = tf.equal(tf.argmax(logits, 1), tf.argmax(y, 1))\n",
    "accuracy = tf.reduce_mean(tf.cast(correct_pred, tf.float32), name='accuracy')\n",
    "\n",
    "tests.test_conv_net(conv_net)"
   ]
  },
  {
   "cell_type": "markdown",
   "metadata": {},
   "source": [
    "## Train the Neural Network\n",
    "### Single Optimization\n",
    "Implement the function `train_neural_network` to do a single optimization.  The optimization should use `optimizer` to optimize in `session` with a `feed_dict` of the following:\n",
    "* `x` for image input\n",
    "* `y` for labels\n",
    "* `keep_prob` for keep probability for dropout\n",
    "\n",
    "This function will be called for each batch, so `tf.global_variables_initializer()` has already been called.\n",
    "\n",
    "Note: Nothing needs to be returned. This function is only optimizing the neural network."
   ]
  },
  {
   "cell_type": "code",
   "execution_count": 102,
   "metadata": {},
   "outputs": [
    {
     "name": "stdout",
     "output_type": "stream",
     "text": [
      "Tests Passed\n"
     ]
    }
   ],
   "source": [
    "def train_neural_network(session, optimizer, keep_probability, feature_batch, label_batch):\n",
    "    \"\"\"\n",
    "    Optimize the session on a batch of images and labels\n",
    "    : session: Current TensorFlow session\n",
    "    : optimizer: TensorFlow optimizer function\n",
    "    : keep_probability: keep probability\n",
    "    : feature_batch: Batch of Numpy image data\n",
    "    : label_batch: Batch of Numpy label data\n",
    "    \"\"\"\n",
    "    # TODO: Implement Function\n",
    "    session.run(optimizer, feed_dict={x:feature_batch, y:label_batch, keep_prob:keep_probability})\n",
    "\n",
    "\n",
    "\"\"\"\n",
    "DON'T MODIFY ANYTHING IN THIS CELL THAT IS BELOW THIS LINE\n",
    "\"\"\"\n",
    "tests.test_train_nn(train_neural_network)"
   ]
  },
  {
   "cell_type": "markdown",
   "metadata": {},
   "source": [
    "### Show Stats\n",
    "Implement the function `print_stats` to print loss and validation accuracy.  Use the global variables `valid_features` and `valid_labels` to calculate validation accuracy.  Use a keep probability of `1.0` to calculate the loss and validation accuracy."
   ]
  },
  {
   "cell_type": "code",
   "execution_count": 103,
   "metadata": {
    "collapsed": true
   },
   "outputs": [],
   "source": [
    "def print_stats(session, feature_batch, label_batch, cost, accuracy):\n",
    "    \"\"\"\n",
    "    Print information about loss and validation accuracy\n",
    "    : session: Current TensorFlow session\n",
    "    : feature_batch: Batch of Numpy image data\n",
    "    : label_batch: Batch of Numpy label data\n",
    "    : cost: TensorFlow cost function\n",
    "    : accuracy: TensorFlow accuracy function\n",
    "    \"\"\"\n",
    "     # TODO: Implement Function\n",
    "    loss = session.run(cost, feed_dict={x:feature_batch, \n",
    "                                        y:label_batch,\n",
    "                                        keep_prob:1.0}) \n",
    "    acc = session.run(accuracy, \n",
    "                feed_dict={x:valid_features, \n",
    "                           y:valid_labels, \n",
    "                           keep_prob:1.0})\n",
    "    print('Loss={0} ValidationAccuracy={1}'.format(loss, acc))\n",
    "    # print(\"ValidationAccuracy={0}\".format(acc))"
   ]
  },
  {
   "cell_type": "markdown",
   "metadata": {},
   "source": [
    "### Hyperparameters\n",
    "Tune the following parameters:\n",
    "* Set `epochs` to the number of iterations until the network stops learning or start overfitting\n",
    "* Set `batch_size` to the highest number that your machine has memory for.  Most people set them to common sizes of memory:\n",
    " * 64\n",
    " * 128\n",
    " * 256\n",
    " * ...\n",
    "* Set `keep_probability` to the probability of keeping a node using dropout"
   ]
  },
  {
   "cell_type": "code",
   "execution_count": 114,
   "metadata": {
    "collapsed": true
   },
   "outputs": [],
   "source": [
    "# TODO: Tune Parameters\n",
    "epochs = 25\n",
    "batch_size = 128\n",
    "keep_probability = 0.9"
   ]
  },
  {
   "cell_type": "markdown",
   "metadata": {},
   "source": [
    "### Train on a Single CIFAR-10 Batch\n",
    "Instead of training the neural network on all the CIFAR-10 batches of data, let's use a single batch. This should save time while you iterate on the model to get a better accuracy.  Once the final validation accuracy is 50% or greater, run the model on all the data in the next section."
   ]
  },
  {
   "cell_type": "code",
   "execution_count": 115,
   "metadata": {},
   "outputs": [
    {
     "name": "stdout",
     "output_type": "stream",
     "text": [
      "Checking the Training on a Single Batch...\n",
      "Epoch  1, CIFAR-10 Batch 1:  Loss=2.0938892364501953 ValidationAccuracy=0.2980000078678131\n",
      "Epoch  2, CIFAR-10 Batch 1:  Loss=1.8935513496398926 ValidationAccuracy=0.38580000400543213\n",
      "Epoch  3, CIFAR-10 Batch 1:  Loss=1.6846928596496582 ValidationAccuracy=0.4399999976158142\n",
      "Epoch  4, CIFAR-10 Batch 1:  Loss=1.404064416885376 ValidationAccuracy=0.48159995675086975\n",
      "Epoch  5, CIFAR-10 Batch 1:  Loss=1.289939522743225 ValidationAccuracy=0.5201998949050903\n",
      "Epoch  6, CIFAR-10 Batch 1:  Loss=1.0577359199523926 ValidationAccuracy=0.5371999144554138\n",
      "Epoch  7, CIFAR-10 Batch 1:  Loss=0.899643063545227 ValidationAccuracy=0.5589999556541443\n",
      "Epoch  8, CIFAR-10 Batch 1:  Loss=0.7812750339508057 ValidationAccuracy=0.5753999352455139\n",
      "Epoch  9, CIFAR-10 Batch 1:  Loss=0.7256558537483215 ValidationAccuracy=0.550399899482727\n",
      "Epoch 10, CIFAR-10 Batch 1:  Loss=0.627994954586029 ValidationAccuracy=0.5473999381065369\n",
      "Epoch 11, CIFAR-10 Batch 1:  Loss=0.46364331245422363 ValidationAccuracy=0.5737999081611633\n",
      "Epoch 12, CIFAR-10 Batch 1:  Loss=0.421375036239624 ValidationAccuracy=0.6069998741149902\n",
      "Epoch 13, CIFAR-10 Batch 1:  Loss=0.3905508518218994 ValidationAccuracy=0.6071999669075012\n",
      "Epoch 14, CIFAR-10 Batch 1:  Loss=0.29776567220687866 ValidationAccuracy=0.5889999270439148\n",
      "Epoch 15, CIFAR-10 Batch 1:  Loss=0.21868807077407837 ValidationAccuracy=0.5929999351501465\n",
      "Epoch 16, CIFAR-10 Batch 1:  Loss=0.20064949989318848 ValidationAccuracy=0.5823999643325806\n",
      "Epoch 17, CIFAR-10 Batch 1:  Loss=0.13253086805343628 ValidationAccuracy=0.5933998823165894\n",
      "Epoch 18, CIFAR-10 Batch 1:  Loss=0.10698281228542328 ValidationAccuracy=0.6101998686790466\n",
      "Epoch 19, CIFAR-10 Batch 1:  Loss=0.13602343201637268 ValidationAccuracy=0.5837998986244202\n",
      "Epoch 20, CIFAR-10 Batch 1:  Loss=0.0439070388674736 ValidationAccuracy=0.5959999561309814\n",
      "Epoch 21, CIFAR-10 Batch 1:  Loss=0.06940837949514389 ValidationAccuracy=0.5879999399185181\n",
      "Epoch 22, CIFAR-10 Batch 1:  Loss=0.053019024431705475 ValidationAccuracy=0.5925999283790588\n",
      "Epoch 23, CIFAR-10 Batch 1:  Loss=0.03615215793251991 ValidationAccuracy=0.5975999236106873\n",
      "Epoch 24, CIFAR-10 Batch 1:  Loss=0.03651700168848038 ValidationAccuracy=0.6019999384880066\n",
      "Epoch 25, CIFAR-10 Batch 1:  Loss=0.029845021665096283 ValidationAccuracy=0.598599910736084\n"
     ]
    }
   ],
   "source": [
    "\"\"\"\n",
    "DON'T MODIFY ANYTHING IN THIS CELL\n",
    "\"\"\"\n",
    "print('Checking the Training on a Single Batch...')\n",
    "with tf.Session() as sess:\n",
    "    # Initializing the variables\n",
    "    sess.run(tf.global_variables_initializer())\n",
    "    \n",
    "    # Training cycle\n",
    "    for epoch in range(epochs):\n",
    "        batch_i = 1\n",
    "        for batch_features, batch_labels in helper.load_preprocess_training_batch(batch_i, batch_size):\n",
    "            train_neural_network(sess, optimizer, keep_probability, batch_features, batch_labels)\n",
    "        print('Epoch {:>2}, CIFAR-10 Batch {}:  '.format(epoch + 1, batch_i), end='')\n",
    "        print_stats(sess, batch_features, batch_labels, cost, accuracy)"
   ]
  },
  {
   "cell_type": "markdown",
   "metadata": {},
   "source": [
    "### Fully Train the Model\n",
    "Now that you got a good accuracy with a single CIFAR-10 batch, try it with all five batches."
   ]
  },
  {
   "cell_type": "code",
   "execution_count": 116,
   "metadata": {},
   "outputs": [
    {
     "name": "stdout",
     "output_type": "stream",
     "text": [
      "Training...\n",
      "Epoch  1, CIFAR-10 Batch 1:  Loss=2.1235318183898926 ValidationAccuracy=0.3125999867916107\n",
      "Epoch  1, CIFAR-10 Batch 2:  Loss=1.7633161544799805 ValidationAccuracy=0.3837999999523163\n",
      "Epoch  1, CIFAR-10 Batch 3:  Loss=1.4295305013656616 ValidationAccuracy=0.4203999638557434\n",
      "Epoch  1, CIFAR-10 Batch 4:  Loss=1.386905550956726 ValidationAccuracy=0.48479992151260376\n",
      "Epoch  1, CIFAR-10 Batch 5:  Loss=1.444319248199463 ValidationAccuracy=0.5293999314308167\n",
      "Epoch  2, CIFAR-10 Batch 1:  Loss=1.2848351001739502 ValidationAccuracy=0.5237999558448792\n",
      "Epoch  2, CIFAR-10 Batch 2:  Loss=1.1557787656784058 ValidationAccuracy=0.525399923324585\n",
      "Epoch  2, CIFAR-10 Batch 3:  Loss=0.8755205273628235 ValidationAccuracy=0.5771999359130859\n",
      "Epoch  2, CIFAR-10 Batch 4:  Loss=0.9862420558929443 ValidationAccuracy=0.5913999080657959\n",
      "Epoch  2, CIFAR-10 Batch 5:  Loss=0.9245557188987732 ValidationAccuracy=0.6283999085426331\n",
      "Epoch  3, CIFAR-10 Batch 1:  Loss=1.018841028213501 ValidationAccuracy=0.6267999410629272\n",
      "Epoch  3, CIFAR-10 Batch 2:  Loss=0.8288991451263428 ValidationAccuracy=0.6367998719215393\n",
      "Epoch  3, CIFAR-10 Batch 3:  Loss=0.5605345368385315 ValidationAccuracy=0.6583999395370483\n",
      "Epoch  3, CIFAR-10 Batch 4:  Loss=0.7296223044395447 ValidationAccuracy=0.6483998894691467\n",
      "Epoch  3, CIFAR-10 Batch 5:  Loss=0.6042829751968384 ValidationAccuracy=0.6661998629570007\n",
      "Epoch  4, CIFAR-10 Batch 1:  Loss=0.8592898845672607 ValidationAccuracy=0.6731999516487122\n",
      "Epoch  4, CIFAR-10 Batch 2:  Loss=0.4761342704296112 ValidationAccuracy=0.673599898815155\n",
      "Epoch  4, CIFAR-10 Batch 3:  Loss=0.42129260301589966 ValidationAccuracy=0.682999849319458\n",
      "Epoch  4, CIFAR-10 Batch 4:  Loss=0.5438500642776489 ValidationAccuracy=0.6981998682022095\n",
      "Epoch  4, CIFAR-10 Batch 5:  Loss=0.40480944514274597 ValidationAccuracy=0.6881998777389526\n",
      "Epoch  5, CIFAR-10 Batch 1:  Loss=0.6798551082611084 ValidationAccuracy=0.676399827003479\n",
      "Epoch  5, CIFAR-10 Batch 2:  Loss=0.43786051869392395 ValidationAccuracy=0.6823998689651489\n",
      "Epoch  5, CIFAR-10 Batch 3:  Loss=0.31847554445266724 ValidationAccuracy=0.6903998851776123\n",
      "Epoch  5, CIFAR-10 Batch 4:  Loss=0.3762241303920746 ValidationAccuracy=0.7155998349189758\n",
      "Epoch  5, CIFAR-10 Batch 5:  Loss=0.34693408012390137 ValidationAccuracy=0.6989998817443848\n",
      "Epoch  6, CIFAR-10 Batch 1:  Loss=0.5146217942237854 ValidationAccuracy=0.6911998987197876\n",
      "Epoch  6, CIFAR-10 Batch 2:  Loss=0.2618926167488098 ValidationAccuracy=0.6955999135971069\n",
      "Epoch  6, CIFAR-10 Batch 3:  Loss=0.21711821854114532 ValidationAccuracy=0.7181998491287231\n",
      "Epoch  6, CIFAR-10 Batch 4:  Loss=0.2939455807209015 ValidationAccuracy=0.7039998769760132\n",
      "Epoch  6, CIFAR-10 Batch 5:  Loss=0.3032676875591278 ValidationAccuracy=0.6955999135971069\n",
      "Epoch  7, CIFAR-10 Batch 1:  Loss=0.42756038904190063 ValidationAccuracy=0.6929998397827148\n",
      "Epoch  7, CIFAR-10 Batch 2:  Loss=0.2023669183254242 ValidationAccuracy=0.712199866771698\n",
      "Epoch  7, CIFAR-10 Batch 3:  Loss=0.16851487755775452 ValidationAccuracy=0.7225998640060425\n",
      "Epoch  7, CIFAR-10 Batch 4:  Loss=0.2469060868024826 ValidationAccuracy=0.7161998748779297\n",
      "Epoch  7, CIFAR-10 Batch 5:  Loss=0.16047999262809753 ValidationAccuracy=0.7113998532295227\n",
      "Epoch  8, CIFAR-10 Batch 1:  Loss=0.268688827753067 ValidationAccuracy=0.7051998376846313\n",
      "Epoch  8, CIFAR-10 Batch 2:  Loss=0.17191101610660553 ValidationAccuracy=0.7129998803138733\n",
      "Epoch  8, CIFAR-10 Batch 3:  Loss=0.1287851184606552 ValidationAccuracy=0.7279998064041138\n",
      "Epoch  8, CIFAR-10 Batch 4:  Loss=0.15985114872455597 ValidationAccuracy=0.7101998329162598\n",
      "Epoch  8, CIFAR-10 Batch 5:  Loss=0.13464808464050293 ValidationAccuracy=0.7081999182701111\n",
      "Epoch  9, CIFAR-10 Batch 1:  Loss=0.18550829589366913 ValidationAccuracy=0.7289998531341553\n",
      "Epoch  9, CIFAR-10 Batch 2:  Loss=0.13518959283828735 ValidationAccuracy=0.715199887752533\n",
      "Epoch  9, CIFAR-10 Batch 3:  Loss=0.08401167392730713 ValidationAccuracy=0.7149998545646667\n",
      "Epoch  9, CIFAR-10 Batch 4:  Loss=0.0889580100774765 ValidationAccuracy=0.7291998267173767\n",
      "Epoch  9, CIFAR-10 Batch 5:  Loss=0.0962788388133049 ValidationAccuracy=0.72819983959198\n",
      "Epoch 10, CIFAR-10 Batch 1:  Loss=0.11693012714385986 ValidationAccuracy=0.7371999025344849\n",
      "Epoch 10, CIFAR-10 Batch 2:  Loss=0.09503137320280075 ValidationAccuracy=0.7283998131752014\n",
      "Epoch 10, CIFAR-10 Batch 3:  Loss=0.0728728249669075 ValidationAccuracy=0.7195997834205627\n",
      "Epoch 10, CIFAR-10 Batch 4:  Loss=0.09232108294963837 ValidationAccuracy=0.7241998910903931\n",
      "Epoch 10, CIFAR-10 Batch 5:  Loss=0.06785695999860764 ValidationAccuracy=0.7339997887611389\n",
      "Epoch 11, CIFAR-10 Batch 1:  Loss=0.11190064251422882 ValidationAccuracy=0.7393998503684998\n",
      "Epoch 11, CIFAR-10 Batch 2:  Loss=0.0742306262254715 ValidationAccuracy=0.7171998620033264\n",
      "Epoch 11, CIFAR-10 Batch 3:  Loss=0.051937274634838104 ValidationAccuracy=0.725199818611145\n",
      "Epoch 11, CIFAR-10 Batch 4:  Loss=0.05535672605037689 ValidationAccuracy=0.7351998090744019\n",
      "Epoch 11, CIFAR-10 Batch 5:  Loss=0.06965596973896027 ValidationAccuracy=0.7207998037338257\n",
      "Epoch 12, CIFAR-10 Batch 1:  Loss=0.12441623210906982 ValidationAccuracy=0.7305998802185059\n",
      "Epoch 12, CIFAR-10 Batch 2:  Loss=0.04564811289310455 ValidationAccuracy=0.7275999188423157\n",
      "Epoch 12, CIFAR-10 Batch 3:  Loss=0.04093163087964058 ValidationAccuracy=0.7179998159408569\n",
      "Epoch 12, CIFAR-10 Batch 4:  Loss=0.04742177575826645 ValidationAccuracy=0.7379998564720154\n",
      "Epoch 12, CIFAR-10 Batch 5:  Loss=0.04482627660036087 ValidationAccuracy=0.7243999242782593\n",
      "Epoch 13, CIFAR-10 Batch 1:  Loss=0.11294622719287872 ValidationAccuracy=0.7183998227119446\n",
      "Epoch 13, CIFAR-10 Batch 2:  Loss=0.04663367196917534 ValidationAccuracy=0.7203998565673828\n",
      "Epoch 13, CIFAR-10 Batch 3:  Loss=0.016310516744852066 ValidationAccuracy=0.7379997968673706\n",
      "Epoch 13, CIFAR-10 Batch 4:  Loss=0.04075409471988678 ValidationAccuracy=0.7341998219490051\n",
      "Epoch 13, CIFAR-10 Batch 5:  Loss=0.03443080186843872 ValidationAccuracy=0.7257998585700989\n",
      "Epoch 14, CIFAR-10 Batch 1:  Loss=0.06242087483406067 ValidationAccuracy=0.7379998564720154\n",
      "Epoch 14, CIFAR-10 Batch 2:  Loss=0.027785025537014008 ValidationAccuracy=0.7241998314857483\n",
      "Epoch 14, CIFAR-10 Batch 3:  Loss=0.012395726516842842 ValidationAccuracy=0.7269998788833618\n",
      "Epoch 14, CIFAR-10 Batch 4:  Loss=0.0621478445827961 ValidationAccuracy=0.7183998823165894\n",
      "Epoch 14, CIFAR-10 Batch 5:  Loss=0.03816542774438858 ValidationAccuracy=0.7383998036384583\n",
      "Epoch 15, CIFAR-10 Batch 1:  Loss=0.03746679052710533 ValidationAccuracy=0.7429999113082886\n",
      "Epoch 15, CIFAR-10 Batch 2:  Loss=0.03688506409525871 ValidationAccuracy=0.7175998687744141\n",
      "Epoch 15, CIFAR-10 Batch 3:  Loss=0.00857203546911478 ValidationAccuracy=0.7341998219490051\n",
      "Epoch 15, CIFAR-10 Batch 4:  Loss=0.034622762352228165 ValidationAccuracy=0.7183998823165894\n",
      "Epoch 15, CIFAR-10 Batch 5:  Loss=0.017746824771165848 ValidationAccuracy=0.7403998374938965\n",
      "Epoch 16, CIFAR-10 Batch 1:  Loss=0.028569312766194344 ValidationAccuracy=0.7399997711181641\n",
      "Epoch 16, CIFAR-10 Batch 2:  Loss=0.019601481035351753 ValidationAccuracy=0.7213998436927795\n",
      "Epoch 16, CIFAR-10 Batch 3:  Loss=0.015199603512883186 ValidationAccuracy=0.708599865436554\n",
      "Epoch 16, CIFAR-10 Batch 4:  Loss=0.011424945667386055 ValidationAccuracy=0.7291998863220215\n",
      "Epoch 16, CIFAR-10 Batch 5:  Loss=0.007602931931614876 ValidationAccuracy=0.7303998470306396\n",
      "Epoch 17, CIFAR-10 Batch 1:  Loss=0.037102486938238144 ValidationAccuracy=0.7435998320579529\n",
      "Epoch 17, CIFAR-10 Batch 2:  Loss=0.013458482921123505 ValidationAccuracy=0.7377998232841492\n",
      "Epoch 17, CIFAR-10 Batch 3:  Loss=0.006319933570921421 ValidationAccuracy=0.718599796295166\n",
      "Epoch 17, CIFAR-10 Batch 4:  Loss=0.017694441601634026 ValidationAccuracy=0.7373998165130615\n",
      "Epoch 17, CIFAR-10 Batch 5:  Loss=0.005607582628726959 ValidationAccuracy=0.7375998497009277\n",
      "Epoch 18, CIFAR-10 Batch 1:  Loss=0.04106822982430458 ValidationAccuracy=0.738399863243103\n",
      "Epoch 18, CIFAR-10 Batch 2:  Loss=0.011992398649454117 ValidationAccuracy=0.7289998531341553\n",
      "Epoch 18, CIFAR-10 Batch 3:  Loss=0.009285518899559975 ValidationAccuracy=0.7397998571395874\n",
      "Epoch 18, CIFAR-10 Batch 4:  Loss=0.012355206534266472 ValidationAccuracy=0.7341998219490051\n"
     ]
    },
    {
     "name": "stdout",
     "output_type": "stream",
     "text": [
      "Epoch 18, CIFAR-10 Batch 5:  Loss=0.010174766182899475 ValidationAccuracy=0.701999843120575\n",
      "Epoch 19, CIFAR-10 Batch 1:  Loss=0.023401057347655296 ValidationAccuracy=0.736599862575531\n",
      "Epoch 19, CIFAR-10 Batch 2:  Loss=0.0076909614726901054 ValidationAccuracy=0.7217998504638672\n",
      "Epoch 19, CIFAR-10 Batch 3:  Loss=0.0054012201726436615 ValidationAccuracy=0.7141998410224915\n",
      "Epoch 19, CIFAR-10 Batch 4:  Loss=0.01625158078968525 ValidationAccuracy=0.7163998484611511\n",
      "Epoch 19, CIFAR-10 Batch 5:  Loss=0.008187740109860897 ValidationAccuracy=0.7215998768806458\n",
      "Epoch 20, CIFAR-10 Batch 1:  Loss=0.008566480129957199 ValidationAccuracy=0.7237998843193054\n",
      "Epoch 20, CIFAR-10 Batch 2:  Loss=0.003590955398976803 ValidationAccuracy=0.7341998219490051\n",
      "Epoch 20, CIFAR-10 Batch 3:  Loss=0.001923837116919458 ValidationAccuracy=0.7333998680114746\n",
      "Epoch 20, CIFAR-10 Batch 4:  Loss=0.010366000235080719 ValidationAccuracy=0.7093998789787292\n",
      "Epoch 20, CIFAR-10 Batch 5:  Loss=0.003712821053341031 ValidationAccuracy=0.7207998633384705\n",
      "Epoch 21, CIFAR-10 Batch 1:  Loss=0.009874899871647358 ValidationAccuracy=0.7369998693466187\n",
      "Epoch 21, CIFAR-10 Batch 2:  Loss=0.002919186372309923 ValidationAccuracy=0.7377998232841492\n",
      "Epoch 21, CIFAR-10 Batch 3:  Loss=0.0019380280282348394 ValidationAccuracy=0.7385998964309692\n",
      "Epoch 21, CIFAR-10 Batch 4:  Loss=0.022128455340862274 ValidationAccuracy=0.7263998985290527\n",
      "Epoch 21, CIFAR-10 Batch 5:  Loss=0.005162594839930534 ValidationAccuracy=0.7291998267173767\n",
      "Epoch 22, CIFAR-10 Batch 1:  Loss=0.03849824517965317 ValidationAccuracy=0.7351998090744019\n",
      "Epoch 22, CIFAR-10 Batch 2:  Loss=0.006752760149538517 ValidationAccuracy=0.732999861240387\n",
      "Epoch 22, CIFAR-10 Batch 3:  Loss=0.002965168794617057 ValidationAccuracy=0.7201998233795166\n",
      "Epoch 22, CIFAR-10 Batch 4:  Loss=0.0020796284079551697 ValidationAccuracy=0.7351998090744019\n",
      "Epoch 22, CIFAR-10 Batch 5:  Loss=0.003751191310584545 ValidationAccuracy=0.7357998490333557\n",
      "Epoch 23, CIFAR-10 Batch 1:  Loss=0.03764427453279495 ValidationAccuracy=0.7209998369216919\n",
      "Epoch 23, CIFAR-10 Batch 2:  Loss=0.0048045567236840725 ValidationAccuracy=0.734799861907959\n",
      "Epoch 23, CIFAR-10 Batch 3:  Loss=0.009122675284743309 ValidationAccuracy=0.7221998572349548\n",
      "Epoch 23, CIFAR-10 Batch 4:  Loss=0.008381305262446404 ValidationAccuracy=0.7287999391555786\n",
      "Epoch 23, CIFAR-10 Batch 5:  Loss=0.004327879287302494 ValidationAccuracy=0.7243998050689697\n",
      "Epoch 24, CIFAR-10 Batch 1:  Loss=0.00952504388988018 ValidationAccuracy=0.7321998476982117\n",
      "Epoch 24, CIFAR-10 Batch 2:  Loss=0.0028988472186028957 ValidationAccuracy=0.7365998029708862\n",
      "Epoch 24, CIFAR-10 Batch 3:  Loss=0.0007137444335967302 ValidationAccuracy=0.7425997853279114\n",
      "Epoch 24, CIFAR-10 Batch 4:  Loss=0.009063857607543468 ValidationAccuracy=0.7225998640060425\n",
      "Epoch 24, CIFAR-10 Batch 5:  Loss=0.0025352253578603268 ValidationAccuracy=0.7393998503684998\n",
      "Epoch 25, CIFAR-10 Batch 1:  Loss=0.005367003846913576 ValidationAccuracy=0.732999861240387\n",
      "Epoch 25, CIFAR-10 Batch 2:  Loss=0.0019637872464954853 ValidationAccuracy=0.7321998476982117\n",
      "Epoch 25, CIFAR-10 Batch 3:  Loss=0.0007718540728092194 ValidationAccuracy=0.7343998551368713\n",
      "Epoch 25, CIFAR-10 Batch 4:  Loss=0.0043259719386696815 ValidationAccuracy=0.7353997826576233\n",
      "Epoch 25, CIFAR-10 Batch 5:  Loss=0.003914083819836378 ValidationAccuracy=0.7225998640060425\n"
     ]
    }
   ],
   "source": [
    "\"\"\"\n",
    "DON'T MODIFY ANYTHING IN THIS CELL\n",
    "\"\"\"\n",
    "save_model_path = './image_classification'\n",
    "\n",
    "print('Training...')\n",
    "with tf.Session() as sess:\n",
    "    # Initializing the variables\n",
    "    sess.run(tf.global_variables_initializer())\n",
    "    \n",
    "    # Training cycle\n",
    "    for epoch in range(epochs):\n",
    "        # Loop over all batches\n",
    "        n_batches = 5\n",
    "        for batch_i in range(1, n_batches + 1):\n",
    "            for batch_features, batch_labels in helper.load_preprocess_training_batch(batch_i, batch_size):\n",
    "                train_neural_network(sess, optimizer, keep_probability, batch_features, batch_labels)\n",
    "            print('Epoch {:>2}, CIFAR-10 Batch {}:  '.format(epoch + 1, batch_i), end='')\n",
    "            print_stats(sess, batch_features, batch_labels, cost, accuracy)\n",
    "            \n",
    "    # Save Model\n",
    "    saver = tf.train.Saver()\n",
    "    save_path = saver.save(sess, save_model_path)"
   ]
  },
  {
   "cell_type": "markdown",
   "metadata": {},
   "source": [
    "# Checkpoint\n",
    "The model has been saved to disk.\n",
    "## Test Model\n",
    "Test your model against the test dataset.  This will be your final accuracy. You should have an accuracy greater than 50%. If you don't, keep tweaking the model architecture and parameters."
   ]
  },
  {
   "cell_type": "code",
   "execution_count": 117,
   "metadata": {},
   "outputs": [
    {
     "name": "stdout",
     "output_type": "stream",
     "text": [
      "Testing Accuracy: 0.7210245253164557\n",
      "\n"
     ]
    },
    {
     "data": {
      "image/png": "[encoded data removed]",
      "text/plain": [
       "<matplotlib.figure.Figure at 0x2b75b52a2e8>"
      ]
     },
     "metadata": {
      "image/png": {
       "height": 319,
       "width": 355
      }
     },
     "output_type": "display_data"
    }
   ],
   "source": [
    "\"\"\"\n",
    "DON'T MODIFY ANYTHING IN THIS CELL\n",
    "\"\"\"\n",
    "%matplotlib inline\n",
    "%config InlineBackend.figure_format = 'retina'\n",
    "\n",
    "import tensorflow as tf\n",
    "import pickle\n",
    "import helper\n",
    "import random\n",
    "\n",
    "# Set batch size if not already set\n",
    "try:\n",
    "    if batch_size:\n",
    "        pass\n",
    "except NameError:\n",
    "    batch_size = 64\n",
    "\n",
    "save_model_path = './image_classification'\n",
    "n_samples = 4\n",
    "top_n_predictions = 3\n",
    "\n",
    "def test_model():\n",
    "    \"\"\"\n",
    "    Test the saved model against the test dataset\n",
    "    \"\"\"\n",
    "\n",
    "    test_features, test_labels = pickle.load(open('preprocess_test.p', mode='rb'))\n",
    "    loaded_graph = tf.Graph()\n",
    "\n",
    "    with tf.Session(graph=loaded_graph) as sess:\n",
    "        # Load model\n",
    "        loader = tf.train.import_meta_graph(save_model_path + '.meta')\n",
    "        loader.restore(sess, save_model_path)\n",
    "\n",
    "        # Get Tensors from loaded model\n",
    "        loaded_x = loaded_graph.get_tensor_by_name('x:0')\n",
    "        loaded_y = loaded_graph.get_tensor_by_name('y:0')\n",
    "        loaded_keep_prob = loaded_graph.get_tensor_by_name('keep_prob:0')\n",
    "        loaded_logits = loaded_graph.get_tensor_by_name('logits:0')\n",
    "        loaded_acc = loaded_graph.get_tensor_by_name('accuracy:0')\n",
    "        \n",
    "        # Get accuracy in batches for memory limitations\n",
    "        test_batch_acc_total = 0\n",
    "        test_batch_count = 0\n",
    "        \n",
    "        for test_feature_batch, test_label_batch in helper.batch_features_labels(test_features, test_labels, batch_size):\n",
    "            test_batch_acc_total += sess.run(\n",
    "                loaded_acc,\n",
    "                feed_dict={loaded_x: test_feature_batch, loaded_y: test_label_batch, loaded_keep_prob: 1.0})\n",
    "            test_batch_count += 1\n",
    "\n",
    "        print('Testing Accuracy: {}\\n'.format(test_batch_acc_total/test_batch_count))\n",
    "\n",
    "        # Print Random Samples\n",
    "        random_test_features, random_test_labels = tuple(zip(*random.sample(list(zip(test_features, test_labels)), n_samples)))\n",
    "        random_test_predictions = sess.run(\n",
    "            tf.nn.top_k(tf.nn.softmax(loaded_logits), top_n_predictions),\n",
    "            feed_dict={loaded_x: random_test_features, loaded_y: random_test_labels, loaded_keep_prob: 1.0})\n",
    "        helper.display_image_predictions(random_test_features, random_test_labels, random_test_predictions)\n",
    "\n",
    "\n",
    "test_model()"
   ]
  },
  {
   "cell_type": "markdown",
   "metadata": {},
   "source": [
    "## Why 50-80% Accuracy?\n",
    "You might be wondering why you can't get an accuracy any higher. First things first, 50% isn't bad for a simple CNN.  Pure guessing would get you 10% accuracy. However, you might notice people are getting scores [well above 80%](http://rodrigob.github.io/are_we_there_yet/build/classification_datasets_results.html#43494641522d3130).  That's because we haven't taught you all there is to know about neural networks. We still need to cover a few more techniques.\n",
    "## Submitting This Project\n",
    "When submitting this project, make sure to run all the cells before saving the notebook.  Save the notebook file as \"dlnd_image_classification.ipynb\" and save it as a HTML file under \"File\" -> \"Download as\".  Include the \"helper.py\" and \"problem_unittests.py\" files in your submission."
   ]
  }
 ],
 "metadata": {
  "kernelspec": {
   "display_name": "Python 3",
   "language": "python",
   "name": "python3"
  },
  "language_info": {
   "codemirror_mode": {
    "name": "ipython",
    "version": 3
   },
   "file_extension": ".py",
   "mimetype": "text/x-python",
   "name": "python",
   "nbconvert_exporter": "python",
   "pygments_lexer": "ipython3",
   "version": "3.5.3"
  }
 },
 "nbformat": 4,
 "nbformat_minor": 1
}
